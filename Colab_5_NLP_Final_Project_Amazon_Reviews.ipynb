{
  "cells": [
    {
      "cell_type": "markdown",
      "id": "d3dfb8d2",
      "metadata": {
        "id": "d3dfb8d2"
      },
      "source": [
        "<h1 align=\"center\">NLP-Final Project-Amazon Reviews</h1>"
      ]
    },
    {
      "cell_type": "raw",
      "id": "ce94010b",
      "metadata": {
        "id": "ce94010b"
      },
      "source": [
        "Bu projenin amacı, Amazon.com üzerinde satılan elektronik ürünleri için yazılan büyük miktardaki müşteri yorumlarını analiz etmek ve değerli bilgiler elde etmektir. Projeyi adım adım tamamlayarak aşağıdaki ana hedeflere ulaşacağız:\n",
        "\n",
        "-Veri Hazırlığı ve Temizleme:\n",
        "Projeye başlamadan önce veriyi indiriyoruz ve Jupyter Notebook üzerinde çalışmaya başlıyoruz.\n",
        "Veriyi inceliyoruz ve gereksiz bilgileri çıkararak ön işleme yapmaya başlıyoruz. Örneğin, metinleri küçük harfe çeviriyoruz.\n",
        "HTML etiketlerini ve noktalama işaretlerini kaldırıyoruz.\n",
        "\"Stop words\" olarak adlandırılan yaygın kelimeleri ve anlamsız kelimeleri temizliyoruz.\n",
        "\n",
        "-Kelime Bulutu (Word Cloud) Oluşturma:\n",
        "Temizlenmiş metin verilerini kullanarak, iyi ve kötü yorumlar için ayrı ayrı kelime bulutları oluşturuyoruz.\n",
        "Kelime bulutları sayesinde en sık kullanılan kelimeleri görselleştiriyoruz.\n",
        "\n",
        "-Metin Verilerinin Sayısallaştırılması:\n",
        "Veriyi metin madenciliği (NLP) teknikleri ile sayısal verilere dönüştürüyoruz. Bunun için TF-IDF gibi yöntemleri kullanabiliriz.\n",
        "\n",
        "-Sınıflandırma Algoritmaları ile Model Geliştirme:\n",
        "Veriyi iyi ve kötü yorumlar olarak ikiye ayırıp, özellikleri ve etiketleri belirliyoruz.\n",
        "Sınıflandırma algoritmalarını (örneğin, Naive Bayes, Logistic Regression) kullanarak iyi ve kötü yorumları sınıflandırıyoruz.\n",
        "Modeli eğitiyor ve performansını değerlendiriyoruz.\n",
        "\n",
        "-Yeni Yorumların Rating Tahmini:\n",
        "Overall sütunundaki rating değerine göre yeni gelen yorumların rating'ini tahmin eden bir model geliştiriyoruz.\n",
        "\n",
        "-Adlandırılmış Varlık Tanıma (NER) Araştırması:\n",
        "NER (Named Entity Recognition) tekniklerini kullanarak yorumlardan belirli varlıkları (örneğin, kişi adları, marka adları) çıkarıyoruz.\n",
        "\n",
        "-Özet ve Kod Kısaltma:\n",
        "Projenin her aşamasında ne öğrendiğimizi ve neleri gerçekleştirdiğimizi kendi yorumlarımızla özetliyoruz.\n",
        "Özellikle projeyi daha etkili hale getirmek ve kodları daha kısa hale getirmek için gereken düzenlemeleri yapıyoruz.\n",
        "\n",
        "-Sonuç Raporu:\n",
        "Tüm bu adımları tamamladıktan sonra projenin sonuçlarını, elde edilen bulguları ve öğrenilenleri bir rapor şeklinde özetliyoruz.\n",
        "\n",
        "Not:Milyonlarca satır veri oldugu için df=df.sample(400000) ile sadece 400  bin satır veri ile çalışacağız."
      ]
    },
    {
      "cell_type": "markdown",
      "id": "bd11857c",
      "metadata": {
        "id": "bd11857c"
      },
      "source": [
        "### Ön Bilgi"
      ]
    },
    {
      "cell_type": "markdown",
      "id": "10656300",
      "metadata": {
        "id": "10656300"
      },
      "source": [
        "**Problem Açıklaması:** Amazon İncelemelerini NLP Kullanarak Müşteri Derecelendirmelerine Göre Sınıflandırma\n",
        "Bu bölümde, projenin temel amacı açıklanıyor. Problemin özeti, müşteri derecelendirmelerine dayalı olarak Amazon incelemelerini sınıflandırmaktır. Burada amaç, inceleme metninin anlamına dayalı olarak en uygun derecelendirmeyi atayacak bir sınıflandırıcı oluşturmaktır. Yani, inceleme metninin içeriğini anlayan bir sınıflandırıcı geliştirmek hedeflenmektedir.\n",
        "\n",
        "**Etki:**\n",
        "Müşteri incelemeleri ürünlere objektif geri bildirim sağlar ve bu nedenle tüketiciler için önemlidir. Bu derecelendirmeler genellikle sayısal bir derecelendirme veya yıldız sayısı olarak özetlenir. Ancak, gerçek metin içeriğinde sayılardan daha fazla değer bulunmaktadır. Bazen verilen derecelendirme ürün deneyimini tam olarak iletemeyebilir - geri bildirimin özü aslında metin içeriğinde bulunur. Bu nedenle amaç, bir inceleme parçasının özünü anlayacak ve metin anlamına dayalı olarak en uygun derecelendirmeyi atayacak bir sınıflandırıcı oluşturmaktır.\n",
        "\n",
        "**Arkaplan:**\n",
        "Amazon'daki ürün derecelendirmeleri, her müşterinin tüm incelemelerinden toplandığından, her bir bireysel derecelendirme aslında bir yıldızdan beş yıldıza kadar değişen bir tamsayıdır. Bu, tahminlerimizi toplam beş olasılığa sahip ayrık sınıflara indirir. Bu nedenle, temel tahminci olarak gerçek inceleme metnini kullanan gözetimli çok sınıflı bir sınıflandırıcıya sahip olacağız.\n",
        "Bu çalışma, Doğal Dil İşleme (NLP) alanının bir keşfidir. Bir metin parçasının verilen yıldız derecesini tahmin etme amacı, kelime gömme, konu modellemesi ve boyut indirgeme gibi farklı NLP konularını içerecektir. Buradan hareketle, son bir veri çerçevesine ulaşacağız ve sınıflandırıcımız için en iyi yaklaşımı (en doğru tahminci) bulmak için farklı makine öğrenimi tekniklerini kullanacağız.\n",
        "\n",
        "**Veri Kümeleri:**\n",
        "Amazon veri seti, Mayıs 1996'dan Temmuz 2014'e kadar olan tüm listelenen Elektronik ürünlerinin müşteri incelemelerini içerir. Toplamda 1.689.188 inceleme bulunmaktadır ve bunlar 63.001 benzersiz ürün üzerinde 192.403 müşteri tarafından yapılmıştır. Veri sözlüğü aşağıdaki gibidir:\n",
        "\n",
        "**asin:** İncelenen ürünün benzersiz kimliği, dize\n",
        "\n",
        "**helpful:** Yardımcı olan kullanıcıların sayısı ve incelemeye oy veren toplam kullanıcı sayısı (yardımcı olmayan oylar dahil), liste\n",
        "\n",
        "**overall:** İnceleyenin ürüne verdiği puan, int64\n",
        "\n",
        "**reviewText:** İnceleme metni, dize\n",
        "\n",
        "**reviewerID:** İncelemeyi yapan kişinin benzersiz kimliği, dize\n",
        "\n",
        "**reviewerName:** İncelemeyi yapan kişinin belirtilen adı, dize\n",
        "\n",
        "**summary:** İncelemenin başlık özeti, dize\n",
        "\n",
        "**unixReviewTime:** İncelemenin ne zaman gönderildiğinin Unix zamanı, dize\n",
        "Bu açıklamalar, NLP tabanlı bir proje bağlamında yapılan çalışmanın genel anlayışını ve amaçlarını özetlemektedir."
      ]
    },
    {
      "cell_type": "markdown",
      "id": "494c0a4a",
      "metadata": {
        "id": "494c0a4a"
      },
      "source": [
        "<img src=\"amazon_reviews.png\">"
      ]
    },
    {
      "cell_type": "markdown",
      "id": "75dfc600",
      "metadata": {
        "id": "75dfc600"
      },
      "source": [
        "### Veri Düzenleme\n",
        "Bu bölümde, projenin veri düzenleme ve işleme aşamalarını anlatmaktadır.\n",
        "Öncelikle, gereksiz uyarıları kapatmak için \"warnings\" modülü kullanılarak uyarmalar engellenir:"
      ]
    },
    {
      "cell_type": "code",
      "execution_count": 1,
      "id": "92eee882",
      "metadata": {
        "id": "92eee882"
      },
      "outputs": [],
      "source": [
        "import warnings\n",
        "\n",
        "warnings.simplefilter(\"ignore\", UserWarning)\n",
        "warnings.simplefilter(\"ignore\", FutureWarning)\n",
        "warnings.simplefilter(\"ignore\", DeprecationWarning)"
      ]
    },
    {
      "cell_type": "markdown",
      "id": "770328a2",
      "metadata": {
        "id": "770328a2"
      },
      "source": [
        "Veri kümesi, \"Electronics_5.json\" adında bir dosyadan okunmaya çalışılır. Eğer bu dosya mevcutsa, veri çerçevesi (\"df\") bu dosyadan okunur. Aksi takdirde, veri çerçevesi internetten indirilen bir JSON dosyasından yüklenir:"
      ]
    },
    {
      "cell_type": "code",
      "execution_count": 2,
      "id": "8fcc1038",
      "metadata": {
        "colab": {
          "base_uri": "https://localhost:8080/",
          "height": 519
        },
        "id": "8fcc1038",
        "outputId": "7e705cd7-3852-4b28-c07b-5455031991eb"
      },
      "outputs": [
        {
          "output_type": "display_data",
          "data": {
            "text/plain": [
              "       reviewerID        asin                           reviewerName  \\\n",
              "0   AO94DHGC771SJ  0528881469                                amazdnu   \n",
              "1   AMO214LNFCEI4  0528881469                        Amazon Customer   \n",
              "2  A3N7T0DY83Y4IG  0528881469                          C. A. Freeman   \n",
              "3  A1H8PY3QHMQQA0  0528881469               Dave M. Shaw \"mack dave\"   \n",
              "4  A24EV6RXELQZ63  0528881469                            Wayne Smith   \n",
              "5  A2JXAZZI9PHK9Z  0594451647          Billy G. Noland \"Bill Noland\"   \n",
              "6  A2P5U7BDKKT7FW  0594451647                              Christian   \n",
              "7   AAZ084UMH8VZ2  0594451647  D. L. Brown \"A Knower Of Good Things\"   \n",
              "8   AEZ3CR6BKIROJ  0594451647                           Mark Dietter   \n",
              "9  A3BY5KCNQZXV5U  0594451647                                Matenai   \n",
              "\n",
              "    helpful                                         reviewText  overall  \\\n",
              "0    [0, 0]  We got this GPS for my husband who is an (OTR)...        5   \n",
              "1  [12, 15]  I'm a professional OTR truck driver, and I bou...        1   \n",
              "2  [43, 45]  Well, what can I say.  I've had this unit in m...        3   \n",
              "3   [9, 10]  Not going to write a long review, even thought...        2   \n",
              "4    [0, 0]  I've had mine for a year and here's what we go...        1   \n",
              "5    [3, 3]  I am using this with a Nook HD+. It works as d...        5   \n",
              "6    [0, 0]  The cable is very wobbly and sometimes disconn...        2   \n",
              "7    [0, 0]  This adaptor is real easy to setup and use rig...        5   \n",
              "8    [0, 0]  This adapter easily connects my Nook HD 7&#34;...        4   \n",
              "9    [3, 3]  This product really works great but I found th...        5   \n",
              "\n",
              "                                    summary  unixReviewTime   reviewTime  \n",
              "0                           Gotta have GPS!      1370131200   06 2, 2013  \n",
              "1                         Very Disappointed      1290643200  11 25, 2010  \n",
              "2                            1st impression      1283990400   09 9, 2010  \n",
              "3                   Great grafics, POOR GPS      1290556800  11 24, 2010  \n",
              "4    Major issues, only excuses for support      1317254400  09 29, 2011  \n",
              "5                   HDMI Nook adapter cable      1388707200   01 3, 2014  \n",
              "6                    Cheap proprietary scam      1398556800  04 27, 2014  \n",
              "7               A Perfdect Nook HD+ hook up      1399161600   05 4, 2014  \n",
              "8             A nice easy to use accessory.      1405036800  07 11, 2014  \n",
              "9  This works great but read the details...      1390176000  01 20, 2014  "
            ],
            "text/html": [
              "\n",
              "  <div id=\"df-a2fff0ed-7ada-4cd0-9bf1-62c812f0557e\" class=\"colab-df-container\">\n",
              "    <div>\n",
              "<style scoped>\n",
              "    .dataframe tbody tr th:only-of-type {\n",
              "        vertical-align: middle;\n",
              "    }\n",
              "\n",
              "    .dataframe tbody tr th {\n",
              "        vertical-align: top;\n",
              "    }\n",
              "\n",
              "    .dataframe thead th {\n",
              "        text-align: right;\n",
              "    }\n",
              "</style>\n",
              "<table border=\"1\" class=\"dataframe\">\n",
              "  <thead>\n",
              "    <tr style=\"text-align: right;\">\n",
              "      <th></th>\n",
              "      <th>reviewerID</th>\n",
              "      <th>asin</th>\n",
              "      <th>reviewerName</th>\n",
              "      <th>helpful</th>\n",
              "      <th>reviewText</th>\n",
              "      <th>overall</th>\n",
              "      <th>summary</th>\n",
              "      <th>unixReviewTime</th>\n",
              "      <th>reviewTime</th>\n",
              "    </tr>\n",
              "  </thead>\n",
              "  <tbody>\n",
              "    <tr>\n",
              "      <th>0</th>\n",
              "      <td>AO94DHGC771SJ</td>\n",
              "      <td>0528881469</td>\n",
              "      <td>amazdnu</td>\n",
              "      <td>[0, 0]</td>\n",
              "      <td>We got this GPS for my husband who is an (OTR)...</td>\n",
              "      <td>5</td>\n",
              "      <td>Gotta have GPS!</td>\n",
              "      <td>1370131200</td>\n",
              "      <td>06 2, 2013</td>\n",
              "    </tr>\n",
              "    <tr>\n",
              "      <th>1</th>\n",
              "      <td>AMO214LNFCEI4</td>\n",
              "      <td>0528881469</td>\n",
              "      <td>Amazon Customer</td>\n",
              "      <td>[12, 15]</td>\n",
              "      <td>I'm a professional OTR truck driver, and I bou...</td>\n",
              "      <td>1</td>\n",
              "      <td>Very Disappointed</td>\n",
              "      <td>1290643200</td>\n",
              "      <td>11 25, 2010</td>\n",
              "    </tr>\n",
              "    <tr>\n",
              "      <th>2</th>\n",
              "      <td>A3N7T0DY83Y4IG</td>\n",
              "      <td>0528881469</td>\n",
              "      <td>C. A. Freeman</td>\n",
              "      <td>[43, 45]</td>\n",
              "      <td>Well, what can I say.  I've had this unit in m...</td>\n",
              "      <td>3</td>\n",
              "      <td>1st impression</td>\n",
              "      <td>1283990400</td>\n",
              "      <td>09 9, 2010</td>\n",
              "    </tr>\n",
              "    <tr>\n",
              "      <th>3</th>\n",
              "      <td>A1H8PY3QHMQQA0</td>\n",
              "      <td>0528881469</td>\n",
              "      <td>Dave M. Shaw \"mack dave\"</td>\n",
              "      <td>[9, 10]</td>\n",
              "      <td>Not going to write a long review, even thought...</td>\n",
              "      <td>2</td>\n",
              "      <td>Great grafics, POOR GPS</td>\n",
              "      <td>1290556800</td>\n",
              "      <td>11 24, 2010</td>\n",
              "    </tr>\n",
              "    <tr>\n",
              "      <th>4</th>\n",
              "      <td>A24EV6RXELQZ63</td>\n",
              "      <td>0528881469</td>\n",
              "      <td>Wayne Smith</td>\n",
              "      <td>[0, 0]</td>\n",
              "      <td>I've had mine for a year and here's what we go...</td>\n",
              "      <td>1</td>\n",
              "      <td>Major issues, only excuses for support</td>\n",
              "      <td>1317254400</td>\n",
              "      <td>09 29, 2011</td>\n",
              "    </tr>\n",
              "    <tr>\n",
              "      <th>5</th>\n",
              "      <td>A2JXAZZI9PHK9Z</td>\n",
              "      <td>0594451647</td>\n",
              "      <td>Billy G. Noland \"Bill Noland\"</td>\n",
              "      <td>[3, 3]</td>\n",
              "      <td>I am using this with a Nook HD+. It works as d...</td>\n",
              "      <td>5</td>\n",
              "      <td>HDMI Nook adapter cable</td>\n",
              "      <td>1388707200</td>\n",
              "      <td>01 3, 2014</td>\n",
              "    </tr>\n",
              "    <tr>\n",
              "      <th>6</th>\n",
              "      <td>A2P5U7BDKKT7FW</td>\n",
              "      <td>0594451647</td>\n",
              "      <td>Christian</td>\n",
              "      <td>[0, 0]</td>\n",
              "      <td>The cable is very wobbly and sometimes disconn...</td>\n",
              "      <td>2</td>\n",
              "      <td>Cheap proprietary scam</td>\n",
              "      <td>1398556800</td>\n",
              "      <td>04 27, 2014</td>\n",
              "    </tr>\n",
              "    <tr>\n",
              "      <th>7</th>\n",
              "      <td>AAZ084UMH8VZ2</td>\n",
              "      <td>0594451647</td>\n",
              "      <td>D. L. Brown \"A Knower Of Good Things\"</td>\n",
              "      <td>[0, 0]</td>\n",
              "      <td>This adaptor is real easy to setup and use rig...</td>\n",
              "      <td>5</td>\n",
              "      <td>A Perfdect Nook HD+ hook up</td>\n",
              "      <td>1399161600</td>\n",
              "      <td>05 4, 2014</td>\n",
              "    </tr>\n",
              "    <tr>\n",
              "      <th>8</th>\n",
              "      <td>AEZ3CR6BKIROJ</td>\n",
              "      <td>0594451647</td>\n",
              "      <td>Mark Dietter</td>\n",
              "      <td>[0, 0]</td>\n",
              "      <td>This adapter easily connects my Nook HD 7&amp;#34;...</td>\n",
              "      <td>4</td>\n",
              "      <td>A nice easy to use accessory.</td>\n",
              "      <td>1405036800</td>\n",
              "      <td>07 11, 2014</td>\n",
              "    </tr>\n",
              "    <tr>\n",
              "      <th>9</th>\n",
              "      <td>A3BY5KCNQZXV5U</td>\n",
              "      <td>0594451647</td>\n",
              "      <td>Matenai</td>\n",
              "      <td>[3, 3]</td>\n",
              "      <td>This product really works great but I found th...</td>\n",
              "      <td>5</td>\n",
              "      <td>This works great but read the details...</td>\n",
              "      <td>1390176000</td>\n",
              "      <td>01 20, 2014</td>\n",
              "    </tr>\n",
              "  </tbody>\n",
              "</table>\n",
              "</div>\n",
              "    <div class=\"colab-df-buttons\">\n",
              "\n",
              "  <div class=\"colab-df-container\">\n",
              "    <button class=\"colab-df-convert\" onclick=\"convertToInteractive('df-a2fff0ed-7ada-4cd0-9bf1-62c812f0557e')\"\n",
              "            title=\"Convert this dataframe to an interactive table.\"\n",
              "            style=\"display:none;\">\n",
              "\n",
              "  <svg xmlns=\"http://www.w3.org/2000/svg\" height=\"24px\" viewBox=\"0 -960 960 960\">\n",
              "    <path d=\"M120-120v-720h720v720H120Zm60-500h600v-160H180v160Zm220 220h160v-160H400v160Zm0 220h160v-160H400v160ZM180-400h160v-160H180v160Zm440 0h160v-160H620v160ZM180-180h160v-160H180v160Zm440 0h160v-160H620v160Z\"/>\n",
              "  </svg>\n",
              "    </button>\n",
              "\n",
              "  <style>\n",
              "    .colab-df-container {\n",
              "      display:flex;\n",
              "      gap: 12px;\n",
              "    }\n",
              "\n",
              "    .colab-df-convert {\n",
              "      background-color: #E8F0FE;\n",
              "      border: none;\n",
              "      border-radius: 50%;\n",
              "      cursor: pointer;\n",
              "      display: none;\n",
              "      fill: #1967D2;\n",
              "      height: 32px;\n",
              "      padding: 0 0 0 0;\n",
              "      width: 32px;\n",
              "    }\n",
              "\n",
              "    .colab-df-convert:hover {\n",
              "      background-color: #E2EBFA;\n",
              "      box-shadow: 0px 1px 2px rgba(60, 64, 67, 0.3), 0px 1px 3px 1px rgba(60, 64, 67, 0.15);\n",
              "      fill: #174EA6;\n",
              "    }\n",
              "\n",
              "    .colab-df-buttons div {\n",
              "      margin-bottom: 4px;\n",
              "    }\n",
              "\n",
              "    [theme=dark] .colab-df-convert {\n",
              "      background-color: #3B4455;\n",
              "      fill: #D2E3FC;\n",
              "    }\n",
              "\n",
              "    [theme=dark] .colab-df-convert:hover {\n",
              "      background-color: #434B5C;\n",
              "      box-shadow: 0px 1px 3px 1px rgba(0, 0, 0, 0.15);\n",
              "      filter: drop-shadow(0px 1px 2px rgba(0, 0, 0, 0.3));\n",
              "      fill: #FFFFFF;\n",
              "    }\n",
              "  </style>\n",
              "\n",
              "    <script>\n",
              "      const buttonEl =\n",
              "        document.querySelector('#df-a2fff0ed-7ada-4cd0-9bf1-62c812f0557e button.colab-df-convert');\n",
              "      buttonEl.style.display =\n",
              "        google.colab.kernel.accessAllowed ? 'block' : 'none';\n",
              "\n",
              "      async function convertToInteractive(key) {\n",
              "        const element = document.querySelector('#df-a2fff0ed-7ada-4cd0-9bf1-62c812f0557e');\n",
              "        const dataTable =\n",
              "          await google.colab.kernel.invokeFunction('convertToInteractive',\n",
              "                                                    [key], {});\n",
              "        if (!dataTable) return;\n",
              "\n",
              "        const docLinkHtml = 'Like what you see? Visit the ' +\n",
              "          '<a target=\"_blank\" href=https://colab.research.google.com/notebooks/data_table.ipynb>data table notebook</a>'\n",
              "          + ' to learn more about interactive tables.';\n",
              "        element.innerHTML = '';\n",
              "        dataTable['output_type'] = 'display_data';\n",
              "        await google.colab.output.renderOutput(dataTable, element);\n",
              "        const docLink = document.createElement('div');\n",
              "        docLink.innerHTML = docLinkHtml;\n",
              "        element.appendChild(docLink);\n",
              "      }\n",
              "    </script>\n",
              "  </div>\n",
              "\n",
              "\n",
              "<div id=\"df-68c2813a-5cc7-4175-9351-293ef9ecc391\">\n",
              "  <button class=\"colab-df-quickchart\" onclick=\"quickchart('df-68c2813a-5cc7-4175-9351-293ef9ecc391')\"\n",
              "            title=\"Suggest charts.\"\n",
              "            style=\"display:none;\">\n",
              "\n",
              "<svg xmlns=\"http://www.w3.org/2000/svg\" height=\"24px\"viewBox=\"0 0 24 24\"\n",
              "     width=\"24px\">\n",
              "    <g>\n",
              "        <path d=\"M19 3H5c-1.1 0-2 .9-2 2v14c0 1.1.9 2 2 2h14c1.1 0 2-.9 2-2V5c0-1.1-.9-2-2-2zM9 17H7v-7h2v7zm4 0h-2V7h2v10zm4 0h-2v-4h2v4z\"/>\n",
              "    </g>\n",
              "</svg>\n",
              "  </button>\n",
              "\n",
              "<style>\n",
              "  .colab-df-quickchart {\n",
              "    background-color: #E8F0FE;\n",
              "    border: none;\n",
              "    border-radius: 50%;\n",
              "    cursor: pointer;\n",
              "    display: none;\n",
              "    fill: #1967D2;\n",
              "    height: 32px;\n",
              "    padding: 0 0 0 0;\n",
              "    width: 32px;\n",
              "  }\n",
              "\n",
              "  .colab-df-quickchart:hover {\n",
              "    background-color: #E2EBFA;\n",
              "    box-shadow: 0px 1px 2px rgba(60, 64, 67, 0.3), 0px 1px 3px 1px rgba(60, 64, 67, 0.15);\n",
              "    fill: #174EA6;\n",
              "  }\n",
              "\n",
              "  [theme=dark] .colab-df-quickchart {\n",
              "    background-color: #3B4455;\n",
              "    fill: #D2E3FC;\n",
              "  }\n",
              "\n",
              "  [theme=dark] .colab-df-quickchart:hover {\n",
              "    background-color: #434B5C;\n",
              "    box-shadow: 0px 1px 3px 1px rgba(0, 0, 0, 0.15);\n",
              "    filter: drop-shadow(0px 1px 2px rgba(0, 0, 0, 0.3));\n",
              "    fill: #FFFFFF;\n",
              "  }\n",
              "</style>\n",
              "\n",
              "  <script>\n",
              "    async function quickchart(key) {\n",
              "      const charts = await google.colab.kernel.invokeFunction(\n",
              "          'suggestCharts', [key], {});\n",
              "    }\n",
              "    (() => {\n",
              "      let quickchartButtonEl =\n",
              "        document.querySelector('#df-68c2813a-5cc7-4175-9351-293ef9ecc391 button');\n",
              "      quickchartButtonEl.style.display =\n",
              "        google.colab.kernel.accessAllowed ? 'block' : 'none';\n",
              "    })();\n",
              "  </script>\n",
              "</div>\n",
              "    </div>\n",
              "  </div>\n"
            ]
          },
          "metadata": {}
        }
      ],
      "source": [
        "import os\n",
        "import pandas as pd\n",
        "\n",
        "dataset = \"Electronics_5.json\"\n",
        "\n",
        "if os.path.isfile(dataset):\n",
        "    df = pd.read_json(\"Electronics_5.json\", lines=True)\n",
        "else:\n",
        "    url = r\"http://snap.stanford.edu/data/amazon/productGraph/categoryFiles/reviews_Electronics_5.json.gz\"\n",
        "    df = pd.read_json(url, compression='gzip', lines=True)\n",
        "\n",
        "display(df.head(10))"
      ]
    },
    {
      "cell_type": "markdown",
      "id": "10b0af4f",
      "metadata": {
        "id": "10b0af4f"
      },
      "source": [
        "Belirlenen adresten çekilen veriler \"csv\" dosyasına kaydedilir:"
      ]
    },
    {
      "cell_type": "code",
      "execution_count": 3,
      "id": "4b827089",
      "metadata": {
        "id": "4b827089"
      },
      "outputs": [],
      "source": [
        "df.to_csv(\"amazon.csv\")"
      ]
    },
    {
      "cell_type": "markdown",
      "id": "ba267180",
      "metadata": {
        "id": "ba267180"
      },
      "source": [
        "Kaydedilen veri okunur:"
      ]
    },
    {
      "cell_type": "code",
      "execution_count": 4,
      "id": "e818e592",
      "metadata": {
        "id": "e818e592"
      },
      "outputs": [],
      "source": [
        "df=pd.read_csv(\"amazon.csv\")"
      ]
    },
    {
      "cell_type": "markdown",
      "id": "3dde24eb",
      "metadata": {
        "id": "3dde24eb"
      },
      "source": [
        "Merkezi Limit Teoremi (Central Limit Theorem), istatistikte önemli bir kavramdır ve birçok rastgele değişkenin toplamının veya ortalamasının, bağımsız ve aynı dağılıma sahip rastgele değişkenlerin örneklemlerinin ortalamasına yakınsadığını belirtir. Kısacası, büyük bir örneklemin ortalaması normal dağılıma daha yakın olacaktır.\n",
        "\n",
        "Merkezi Limit Teoremi, bir popülasyonun dağılım şeklinin ne olursa olsun, yeterince büyük bir örneklem alındığında, örneklemin ortalamasının yaklaşık olarak normal dağılıma sahip olduğunu ifade eder. Bu, istatistiksel analizde birçok kez kullanılan ve sonuçların genellenmesine yardımcı olan önemli bir teorem olarak kabul edilir."
      ]
    },
    {
      "cell_type": "markdown",
      "id": "c9b91162",
      "metadata": {
        "id": "c9b91162"
      },
      "source": [
        "\"CLT (Central Limit Theoerem)'e göre veri milyonlara ulaştığından sadece 400.000 i ile çalışmak istatiksel olarak yeterli olacak:"
      ]
    },
    {
      "cell_type": "code",
      "execution_count": 5,
      "id": "494ffecf",
      "metadata": {
        "id": "494ffecf"
      },
      "outputs": [],
      "source": [
        "df=df.sample(400000)"
      ]
    },
    {
      "cell_type": "markdown",
      "id": "8fa983de",
      "metadata": {
        "id": "8fa983de"
      },
      "source": [
        "Bu kod, Google Colab (Colaboratory) ortamında kullanıldığında, belirtilen dosyanın indirilmesini sağlar. files.download() fonksiyonu, Colab ortamında çalışırken oluşturulan veya işlenen bir dosyanın kullanıcıya indirilmesini sağlar."
      ]
    },
    {
      "cell_type": "code",
      "execution_count": 6,
      "id": "64c01df9",
      "metadata": {
        "colab": {
          "base_uri": "https://localhost:8080/",
          "height": 17
        },
        "id": "64c01df9",
        "outputId": "241f4b06-87da-4bd5-a425-091c13f2f6e1"
      },
      "outputs": [
        {
          "output_type": "display_data",
          "data": {
            "text/plain": [
              "<IPython.core.display.Javascript object>"
            ],
            "application/javascript": [
              "\n",
              "    async function download(id, filename, size) {\n",
              "      if (!google.colab.kernel.accessAllowed) {\n",
              "        return;\n",
              "      }\n",
              "      const div = document.createElement('div');\n",
              "      const label = document.createElement('label');\n",
              "      label.textContent = `Downloading \"${filename}\": `;\n",
              "      div.appendChild(label);\n",
              "      const progress = document.createElement('progress');\n",
              "      progress.max = size;\n",
              "      div.appendChild(progress);\n",
              "      document.body.appendChild(div);\n",
              "\n",
              "      const buffers = [];\n",
              "      let downloaded = 0;\n",
              "\n",
              "      const channel = await google.colab.kernel.comms.open(id);\n",
              "      // Send a message to notify the kernel that we're ready.\n",
              "      channel.send({})\n",
              "\n",
              "      for await (const message of channel.messages) {\n",
              "        // Send a message to notify the kernel that we're ready.\n",
              "        channel.send({})\n",
              "        if (message.buffers) {\n",
              "          for (const buffer of message.buffers) {\n",
              "            buffers.push(buffer);\n",
              "            downloaded += buffer.byteLength;\n",
              "            progress.value = downloaded;\n",
              "          }\n",
              "        }\n",
              "      }\n",
              "      const blob = new Blob(buffers, {type: 'application/binary'});\n",
              "      const a = document.createElement('a');\n",
              "      a.href = window.URL.createObjectURL(blob);\n",
              "      a.download = filename;\n",
              "      div.appendChild(a);\n",
              "      a.click();\n",
              "      div.remove();\n",
              "    }\n",
              "  "
            ]
          },
          "metadata": {}
        },
        {
          "output_type": "display_data",
          "data": {
            "text/plain": [
              "<IPython.core.display.Javascript object>"
            ],
            "application/javascript": [
              "download(\"download_4587e8a8-25dd-432f-8421-e87765401f82\", \"amazon.csv\", 1264147732)"
            ]
          },
          "metadata": {}
        }
      ],
      "source": [
        "from google.colab import files\n",
        "files.download(\"amazon.csv\")"
      ]
    },
    {
      "cell_type": "markdown",
      "id": "53efcf57",
      "metadata": {
        "id": "53efcf57"
      },
      "source": [
        "Veri setinin bellek kullanımı ve sütun türleri \"info()\" fonksiyonuyla görüntülenir:"
      ]
    },
    {
      "cell_type": "code",
      "execution_count": 7,
      "id": "8ee6df22",
      "metadata": {
        "colab": {
          "base_uri": "https://localhost:8080/"
        },
        "id": "8ee6df22",
        "outputId": "2759d051-2894-48e5-d8c6-3774b2f2e38f"
      },
      "outputs": [
        {
          "output_type": "stream",
          "name": "stdout",
          "text": [
            "<class 'pandas.core.frame.DataFrame'>\n",
            "Int64Index: 400000 entries, 708683 to 602962\n",
            "Data columns (total 10 columns):\n",
            " #   Column          Non-Null Count   Dtype \n",
            "---  ------          --------------   ----- \n",
            " 0   Unnamed: 0      400000 non-null  int64 \n",
            " 1   reviewerID      400000 non-null  object\n",
            " 2   asin            400000 non-null  object\n",
            " 3   reviewerName    394098 non-null  object\n",
            " 4   helpful         400000 non-null  object\n",
            " 5   reviewText      399744 non-null  object\n",
            " 6   overall         400000 non-null  int64 \n",
            " 7   summary         399997 non-null  object\n",
            " 8   unixReviewTime  400000 non-null  int64 \n",
            " 9   reviewTime      400000 non-null  object\n",
            "dtypes: int64(3), object(7)\n",
            "memory usage: 33.6+ MB\n",
            "None\n"
          ]
        }
      ],
      "source": [
        "print(df.info())"
      ]
    },
    {
      "cell_type": "raw",
      "id": "b05e9a4e",
      "metadata": {
        "id": "b05e9a4e"
      },
      "source": [
        "!ls -al komutu, bir Unix tabanlı işletim sisteminden (örneğin Linux veya macOS) geldiği gibi, Google Colab veya Jupyter Notebook gibi çevrimiçi Python çalışma ortamlarında da kullanılabilen bir komuttur. Bu komut, çalışma dizininde bulunan dosyaları ve klasörleri listelemek için kullanılır.\n",
        "\n",
        "İşte bazı temel açıklamalar:\n",
        "ls: \"list\" anlamına gelir ve çalışma dizinindeki dosya ve klasörleri listelemek için kullanılır.\n",
        "-al: Bu, komutun \"a\" ve \"l\" bayraklarıyla çalıştırılacağını belirtir.\n",
        "\"a\" bayrağı: Gizli dosyaları da (nokta ile başlayan dosyalar) listeler.\n",
        "\"l\" bayrağı: Dosya ve klasörlerin ayrıntılı bir liste görünümünü sağlar (izinler, sahiplik, boyut, tarih vb.)."
      ]
    },
    {
      "cell_type": "code",
      "execution_count": 8,
      "id": "53437a42",
      "metadata": {
        "collapsed": true,
        "colab": {
          "base_uri": "https://localhost:8080/"
        },
        "id": "53437a42",
        "outputId": "6ab115fe-ab5f-4c9b-8033-b06887481ae8"
      },
      "outputs": [
        {
          "output_type": "stream",
          "name": "stdout",
          "text": [
            "total 1234540\n",
            "drwxr-xr-x 1 root root       4096 Aug 18 11:47 .\n",
            "drwxr-xr-x 1 root root       4096 Aug 18 11:45 ..\n",
            "-rw-r--r-- 1 root root 1264147732 Aug 18 11:47 amazon.csv\n",
            "drwxr-xr-x 4 root root       4096 Aug 16 13:41 .config\n",
            "drwxr-xr-x 1 root root       4096 Aug 16 13:42 sample_data\n"
          ]
        }
      ],
      "source": [
        "!ls -al"
      ]
    },
    {
      "cell_type": "raw",
      "id": "8e35b9c2",
      "metadata": {
        "id": "8e35b9c2"
      },
      "source": [
        "Eğer \"ls\" komutunu Windows komut istemcisinde veya PowerShell'de çalıştırmaya çalışıyorsanız, bu komutun tanınmadığı ve çalıştırılamadığı hata mesajını alırsınız. Bunun yerine, Windows'ta dosya ve klasörleri listelemek için \"dir\" komutunu kullanmalısınız.\n",
        "Eğer bir Unix tabanlı işletim sistemi kullanıyorsanız, \"ls\" komutunu kullanmaya devam edebilirsiniz. Ancak, Windows üzerinde \"ls\" komutunu kullanmak yerine \"dir\" komutunu kullanmanız gerektiğini unutmayın."
      ]
    },
    {
      "cell_type": "code",
      "execution_count": 9,
      "id": "85cb1185",
      "metadata": {
        "colab": {
          "base_uri": "https://localhost:8080/"
        },
        "id": "85cb1185",
        "outputId": "9090503d-a2ad-4a62-ce4a-78ea99cebb5d"
      },
      "outputs": [
        {
          "output_type": "execute_result",
          "data": {
            "text/plain": [
              "<function dir>"
            ]
          },
          "metadata": {},
          "execution_count": 9
        }
      ],
      "source": [
        "dir"
      ]
    },
    {
      "cell_type": "markdown",
      "id": "e0cc7500",
      "metadata": {
        "id": "e0cc7500"
      },
      "source": [
        "Unix zaman damgaları (\"unixReviewTime\"), daha sezgisel bir veri türü olan tarih ve saat nesnelerine dönüştürülür:"
      ]
    },
    {
      "cell_type": "code",
      "execution_count": 10,
      "id": "aa6387f1",
      "metadata": {
        "id": "aa6387f1"
      },
      "outputs": [],
      "source": [
        "import datetime\n",
        "\n",
        "condition = lambda row: datetime.datetime.fromtimestamp(row).strftime(\"%m-%d-%Y\")\n",
        "df[\"unixReviewTime\"] = df[\"unixReviewTime\"].apply(condition)"
      ]
    },
    {
      "cell_type": "markdown",
      "id": "8ffff126",
      "metadata": {
        "id": "8ffff126"
      },
      "source": [
        "Gereksiz olan \"reviewTime\" sütunu veri çerçevesinden çıkarılır:"
      ]
    },
    {
      "cell_type": "code",
      "execution_count": 11,
      "id": "339b1a90",
      "metadata": {
        "colab": {
          "base_uri": "https://localhost:8080/",
          "height": 206
        },
        "id": "339b1a90",
        "outputId": "384a0da0-fe00-416b-9491-82e2d974e07b"
      },
      "outputs": [
        {
          "output_type": "display_data",
          "data": {
            "text/plain": [
              "         Unnamed: 0      reviewerID        asin    reviewerName helpful  \\\n",
              "708683       708683  A1I4VLCT3FGICV  B0034XRDUK  Paul R. Balash  [0, 0]   \n",
              "585446       585446  A2IMOP73PUUM3P  B002CSUZSU         M. Kreg  [0, 0]   \n",
              "1143169     1143169  A3JZAGBZDY2T8E  B005HPZ5MQ      Michael S.  [0, 2]   \n",
              "1635893     1635893  A3TJ735KIV1CTF  B00E4LGTVU         Adam G.  [0, 0]   \n",
              "868255       868255  A21AYKD7KSHHD5  B0040JHVC2      travisjl28  [0, 0]   \n",
              "\n",
              "                                                reviewText  overall  \\\n",
              "708683   Bought this PSU for use with mobo with on boar...        4   \n",
              "585446   I've had problems from the start with these ca...        1   \n",
              "1143169  This is such an amazing shotgun mic. At 40 fee...        5   \n",
              "1635893  for the money they are great. bought them beca...        4   \n",
              "868255   I love this thing.  It's actually sitting righ...        5   \n",
              "\n",
              "                          summary unixReviewTime  \n",
              "708683                Works great     04-08-2013  \n",
              "585446   Poor, Cheap Construction     05-14-2012  \n",
              "1143169           Awesome product     06-03-2013  \n",
              "1635893          works very well.     03-02-2014  \n",
              "868255               Great camera     09-12-2013  "
            ],
            "text/html": [
              "\n",
              "  <div id=\"df-b9994947-1d49-4f2c-9d8d-42ba2976a77d\" class=\"colab-df-container\">\n",
              "    <div>\n",
              "<style scoped>\n",
              "    .dataframe tbody tr th:only-of-type {\n",
              "        vertical-align: middle;\n",
              "    }\n",
              "\n",
              "    .dataframe tbody tr th {\n",
              "        vertical-align: top;\n",
              "    }\n",
              "\n",
              "    .dataframe thead th {\n",
              "        text-align: right;\n",
              "    }\n",
              "</style>\n",
              "<table border=\"1\" class=\"dataframe\">\n",
              "  <thead>\n",
              "    <tr style=\"text-align: right;\">\n",
              "      <th></th>\n",
              "      <th>Unnamed: 0</th>\n",
              "      <th>reviewerID</th>\n",
              "      <th>asin</th>\n",
              "      <th>reviewerName</th>\n",
              "      <th>helpful</th>\n",
              "      <th>reviewText</th>\n",
              "      <th>overall</th>\n",
              "      <th>summary</th>\n",
              "      <th>unixReviewTime</th>\n",
              "    </tr>\n",
              "  </thead>\n",
              "  <tbody>\n",
              "    <tr>\n",
              "      <th>708683</th>\n",
              "      <td>708683</td>\n",
              "      <td>A1I4VLCT3FGICV</td>\n",
              "      <td>B0034XRDUK</td>\n",
              "      <td>Paul R. Balash</td>\n",
              "      <td>[0, 0]</td>\n",
              "      <td>Bought this PSU for use with mobo with on boar...</td>\n",
              "      <td>4</td>\n",
              "      <td>Works great</td>\n",
              "      <td>04-08-2013</td>\n",
              "    </tr>\n",
              "    <tr>\n",
              "      <th>585446</th>\n",
              "      <td>585446</td>\n",
              "      <td>A2IMOP73PUUM3P</td>\n",
              "      <td>B002CSUZSU</td>\n",
              "      <td>M. Kreg</td>\n",
              "      <td>[0, 0]</td>\n",
              "      <td>I've had problems from the start with these ca...</td>\n",
              "      <td>1</td>\n",
              "      <td>Poor, Cheap Construction</td>\n",
              "      <td>05-14-2012</td>\n",
              "    </tr>\n",
              "    <tr>\n",
              "      <th>1143169</th>\n",
              "      <td>1143169</td>\n",
              "      <td>A3JZAGBZDY2T8E</td>\n",
              "      <td>B005HPZ5MQ</td>\n",
              "      <td>Michael S.</td>\n",
              "      <td>[0, 2]</td>\n",
              "      <td>This is such an amazing shotgun mic. At 40 fee...</td>\n",
              "      <td>5</td>\n",
              "      <td>Awesome product</td>\n",
              "      <td>06-03-2013</td>\n",
              "    </tr>\n",
              "    <tr>\n",
              "      <th>1635893</th>\n",
              "      <td>1635893</td>\n",
              "      <td>A3TJ735KIV1CTF</td>\n",
              "      <td>B00E4LGTVU</td>\n",
              "      <td>Adam G.</td>\n",
              "      <td>[0, 0]</td>\n",
              "      <td>for the money they are great. bought them beca...</td>\n",
              "      <td>4</td>\n",
              "      <td>works very well.</td>\n",
              "      <td>03-02-2014</td>\n",
              "    </tr>\n",
              "    <tr>\n",
              "      <th>868255</th>\n",
              "      <td>868255</td>\n",
              "      <td>A21AYKD7KSHHD5</td>\n",
              "      <td>B0040JHVC2</td>\n",
              "      <td>travisjl28</td>\n",
              "      <td>[0, 0]</td>\n",
              "      <td>I love this thing.  It's actually sitting righ...</td>\n",
              "      <td>5</td>\n",
              "      <td>Great camera</td>\n",
              "      <td>09-12-2013</td>\n",
              "    </tr>\n",
              "  </tbody>\n",
              "</table>\n",
              "</div>\n",
              "    <div class=\"colab-df-buttons\">\n",
              "\n",
              "  <div class=\"colab-df-container\">\n",
              "    <button class=\"colab-df-convert\" onclick=\"convertToInteractive('df-b9994947-1d49-4f2c-9d8d-42ba2976a77d')\"\n",
              "            title=\"Convert this dataframe to an interactive table.\"\n",
              "            style=\"display:none;\">\n",
              "\n",
              "  <svg xmlns=\"http://www.w3.org/2000/svg\" height=\"24px\" viewBox=\"0 -960 960 960\">\n",
              "    <path d=\"M120-120v-720h720v720H120Zm60-500h600v-160H180v160Zm220 220h160v-160H400v160Zm0 220h160v-160H400v160ZM180-400h160v-160H180v160Zm440 0h160v-160H620v160ZM180-180h160v-160H180v160Zm440 0h160v-160H620v160Z\"/>\n",
              "  </svg>\n",
              "    </button>\n",
              "\n",
              "  <style>\n",
              "    .colab-df-container {\n",
              "      display:flex;\n",
              "      gap: 12px;\n",
              "    }\n",
              "\n",
              "    .colab-df-convert {\n",
              "      background-color: #E8F0FE;\n",
              "      border: none;\n",
              "      border-radius: 50%;\n",
              "      cursor: pointer;\n",
              "      display: none;\n",
              "      fill: #1967D2;\n",
              "      height: 32px;\n",
              "      padding: 0 0 0 0;\n",
              "      width: 32px;\n",
              "    }\n",
              "\n",
              "    .colab-df-convert:hover {\n",
              "      background-color: #E2EBFA;\n",
              "      box-shadow: 0px 1px 2px rgba(60, 64, 67, 0.3), 0px 1px 3px 1px rgba(60, 64, 67, 0.15);\n",
              "      fill: #174EA6;\n",
              "    }\n",
              "\n",
              "    .colab-df-buttons div {\n",
              "      margin-bottom: 4px;\n",
              "    }\n",
              "\n",
              "    [theme=dark] .colab-df-convert {\n",
              "      background-color: #3B4455;\n",
              "      fill: #D2E3FC;\n",
              "    }\n",
              "\n",
              "    [theme=dark] .colab-df-convert:hover {\n",
              "      background-color: #434B5C;\n",
              "      box-shadow: 0px 1px 3px 1px rgba(0, 0, 0, 0.15);\n",
              "      filter: drop-shadow(0px 1px 2px rgba(0, 0, 0, 0.3));\n",
              "      fill: #FFFFFF;\n",
              "    }\n",
              "  </style>\n",
              "\n",
              "    <script>\n",
              "      const buttonEl =\n",
              "        document.querySelector('#df-b9994947-1d49-4f2c-9d8d-42ba2976a77d button.colab-df-convert');\n",
              "      buttonEl.style.display =\n",
              "        google.colab.kernel.accessAllowed ? 'block' : 'none';\n",
              "\n",
              "      async function convertToInteractive(key) {\n",
              "        const element = document.querySelector('#df-b9994947-1d49-4f2c-9d8d-42ba2976a77d');\n",
              "        const dataTable =\n",
              "          await google.colab.kernel.invokeFunction('convertToInteractive',\n",
              "                                                    [key], {});\n",
              "        if (!dataTable) return;\n",
              "\n",
              "        const docLinkHtml = 'Like what you see? Visit the ' +\n",
              "          '<a target=\"_blank\" href=https://colab.research.google.com/notebooks/data_table.ipynb>data table notebook</a>'\n",
              "          + ' to learn more about interactive tables.';\n",
              "        element.innerHTML = '';\n",
              "        dataTable['output_type'] = 'display_data';\n",
              "        await google.colab.output.renderOutput(dataTable, element);\n",
              "        const docLink = document.createElement('div');\n",
              "        docLink.innerHTML = docLinkHtml;\n",
              "        element.appendChild(docLink);\n",
              "      }\n",
              "    </script>\n",
              "  </div>\n",
              "\n",
              "\n",
              "<div id=\"df-405cab93-6fb5-4b4b-a748-e93a94407ca2\">\n",
              "  <button class=\"colab-df-quickchart\" onclick=\"quickchart('df-405cab93-6fb5-4b4b-a748-e93a94407ca2')\"\n",
              "            title=\"Suggest charts.\"\n",
              "            style=\"display:none;\">\n",
              "\n",
              "<svg xmlns=\"http://www.w3.org/2000/svg\" height=\"24px\"viewBox=\"0 0 24 24\"\n",
              "     width=\"24px\">\n",
              "    <g>\n",
              "        <path d=\"M19 3H5c-1.1 0-2 .9-2 2v14c0 1.1.9 2 2 2h14c1.1 0 2-.9 2-2V5c0-1.1-.9-2-2-2zM9 17H7v-7h2v7zm4 0h-2V7h2v10zm4 0h-2v-4h2v4z\"/>\n",
              "    </g>\n",
              "</svg>\n",
              "  </button>\n",
              "\n",
              "<style>\n",
              "  .colab-df-quickchart {\n",
              "    background-color: #E8F0FE;\n",
              "    border: none;\n",
              "    border-radius: 50%;\n",
              "    cursor: pointer;\n",
              "    display: none;\n",
              "    fill: #1967D2;\n",
              "    height: 32px;\n",
              "    padding: 0 0 0 0;\n",
              "    width: 32px;\n",
              "  }\n",
              "\n",
              "  .colab-df-quickchart:hover {\n",
              "    background-color: #E2EBFA;\n",
              "    box-shadow: 0px 1px 2px rgba(60, 64, 67, 0.3), 0px 1px 3px 1px rgba(60, 64, 67, 0.15);\n",
              "    fill: #174EA6;\n",
              "  }\n",
              "\n",
              "  [theme=dark] .colab-df-quickchart {\n",
              "    background-color: #3B4455;\n",
              "    fill: #D2E3FC;\n",
              "  }\n",
              "\n",
              "  [theme=dark] .colab-df-quickchart:hover {\n",
              "    background-color: #434B5C;\n",
              "    box-shadow: 0px 1px 3px 1px rgba(0, 0, 0, 0.15);\n",
              "    filter: drop-shadow(0px 1px 2px rgba(0, 0, 0, 0.3));\n",
              "    fill: #FFFFFF;\n",
              "  }\n",
              "</style>\n",
              "\n",
              "  <script>\n",
              "    async function quickchart(key) {\n",
              "      const charts = await google.colab.kernel.invokeFunction(\n",
              "          'suggestCharts', [key], {});\n",
              "    }\n",
              "    (() => {\n",
              "      let quickchartButtonEl =\n",
              "        document.querySelector('#df-405cab93-6fb5-4b4b-a748-e93a94407ca2 button');\n",
              "      quickchartButtonEl.style.display =\n",
              "        google.colab.kernel.accessAllowed ? 'block' : 'none';\n",
              "    })();\n",
              "  </script>\n",
              "</div>\n",
              "    </div>\n",
              "  </div>\n"
            ]
          },
          "metadata": {}
        }
      ],
      "source": [
        "df.drop(labels=\"reviewTime\", axis=1, inplace=True)\n",
        "\n",
        "display(df.head())"
      ]
    },
    {
      "cell_type": "markdown",
      "id": "d30d705b",
      "metadata": {
        "id": "d30d705b"
      },
      "source": [
        "Veri çerçevesinde örnek bir yorum yazısı görüntülenir:"
      ]
    },
    {
      "cell_type": "code",
      "execution_count": 12,
      "id": "35179377",
      "metadata": {
        "colab": {
          "base_uri": "https://localhost:8080/"
        },
        "id": "35179377",
        "outputId": "8f8d3f02-1bf5-41b7-8c14-d9df088ed6bd"
      },
      "outputs": [
        {
          "output_type": "stream",
          "name": "stdout",
          "text": [
            "I personally did not like this computer with Windows 7. Windows 8 Pro made all the difference. With Windows 8 Pro it is very easy to use and touch friendly. I like using the Stylus when I'm in desktop mode because of the precision. I wish I could turn off the touch interface when I'm working on Desktop mode and have it automatically enable when i'm on the Metro interface.This tablet would have gotten 5 stars if it wasn't because of two things1) The size of this tablet makes a little uncomfortable to hold it with one hand for long periods of time. Luckily there is  a Samsung Series 7 Slate Grip Assist Case which allows you to hold the laptop with one hand.2) Ever since upgrading to Windows 8 Pro I been having problems with the touch screen. Some times it stops working altogether and I have to use the Stylus. I discovered that It usually stops working after I put it to sleep after I had just plugged in a USB Mouse or USB Memory and also when I put it to sleep and try to wake it up in less than 25 seconds. The fix is to put the computer to sleep and wait 5 minutes before waking it up.I contacted Samsung and they told me that the touchscreen issue is a known issue and it will eventually get resolved trough windows updates, but there is no ETA. I was also directed to install a Samsung update software but it does not seem to resolve the issue completely.If the touchscreen issue ever gets resolved I will return here and edit my rating to 5 stars and edit the comment.\n"
          ]
        }
      ],
      "source": [
        "print(df[\"reviewText\"].iloc[9])"
      ]
    },
    {
      "cell_type": "markdown",
      "id": "a5e0d2db",
      "metadata": {
        "id": "a5e0d2db"
      },
      "source": [
        "Son olarak, veri seti \"overall\" sütunundaki unique derecelendirmeleri görüntülemek için kullanılır:"
      ]
    },
    {
      "cell_type": "code",
      "execution_count": 13,
      "id": "343f16aa",
      "metadata": {
        "colab": {
          "base_uri": "https://localhost:8080/"
        },
        "id": "343f16aa",
        "outputId": "ec4a8881-98d4-4e55-db8e-c65cc1dd73a9"
      },
      "outputs": [
        {
          "output_type": "stream",
          "name": "stdout",
          "text": [
            "[4 1 5 3 2]\n"
          ]
        }
      ],
      "source": [
        "print(df[\"overall\"].unique())"
      ]
    },
    {
      "cell_type": "markdown",
      "id": "69de18f1",
      "metadata": {
        "id": "69de18f1"
      },
      "source": [
        "\n",
        "\n",
        "```\n",
        "# Bu, kod olarak biçimlendirilmiştir\n",
        "```\n",
        "\n",
        "Görsel olarak görmek istediğimizde:"
      ]
    },
    {
      "cell_type": "code",
      "execution_count": 14,
      "id": "95135e27",
      "metadata": {
        "colab": {
          "base_uri": "https://localhost:8080/",
          "height": 446
        },
        "id": "95135e27",
        "outputId": "8134cb17-5a5c-4ebb-91b0-0cf4d70d7627"
      },
      "outputs": [
        {
          "output_type": "execute_result",
          "data": {
            "text/plain": [
              "<Axes: >"
            ]
          },
          "metadata": {},
          "execution_count": 14
        },
        {
          "output_type": "display_data",
          "data": {
            "text/plain": [
              "<Figure size 640x480 with 1 Axes>"
            ],
            "image/png": "[encoded data removed]"
          },
          "metadata": {}
        }
      ],
      "source": [
        "df.overall.value_counts().plot.bar()"
      ]
    },
    {
      "cell_type": "code",
      "execution_count": 14,
      "id": "74a61c66",
      "metadata": {
        "id": "74a61c66"
      },
      "outputs": [],
      "source": []
    }
  ],
  "metadata": {
    "kernelspec": {
      "display_name": "Python 3 (ipykernel)",
      "language": "python",
      "name": "python3"
    },
    "language_info": {
      "codemirror_mode": {
        "name": "ipython",
        "version": 3
      },
      "file_extension": ".py",
      "mimetype": "text/x-python",
      "name": "python",
      "nbconvert_exporter": "python",
      "pygments_lexer": "ipython3",
      "version": "3.10.9"
    },
    "colab": {
      "provenance": []
    }
  },
  "nbformat": 4,
  "nbformat_minor": 5
}